{
 "cells": [
  {
   "cell_type": "markdown",
   "id": "88534c6d-fa32-4f8b-b5c7-bacc58224d1c",
   "metadata": {},
   "source": [
    "# Exercices for chapter 1. \n",
    "\n",
    "## Numbers \n",
    "\n",
    "#### Create a variable named my age with your age. Create another variable called x and give an integer value to it. \n",
    "\n",
    "#### Sum both variables. \n",
    "#### Multiply both variables.\n",
    "#### Print \"My result is: RESULT of Multiplication\". Also check the type. \n",
    "\n"
   ]
  },
  {
   "cell_type": "code",
   "execution_count": null,
   "id": "c52aab31",
   "metadata": {},
   "outputs": [],
   "source": []
  },
  {
   "cell_type": "markdown",
   "id": "92e7c82a",
   "metadata": {},
   "source": [
    "\n",
    "## Strings\n",
    "\n",
    "#### With the function input, enter the day of your birthday as a variable (numeric). \n"
   ]
  },
  {
   "cell_type": "code",
   "execution_count": null,
   "id": "efbdc131",
   "metadata": {},
   "outputs": [],
   "source": []
  },
  {
   "cell_type": "markdown",
   "id": "2997df5d",
   "metadata": {},
   "source": [
    "#### With the function input, enter the month of your birthday as a variable (string).\n"
   ]
  },
  {
   "cell_type": "code",
   "execution_count": null,
   "id": "3e37bab4",
   "metadata": {},
   "outputs": [],
   "source": []
  },
  {
   "cell_type": "markdown",
   "id": "ba3546ab",
   "metadata": {},
   "source": [
    "#### With the use of a method, capitalize the first letter of your month variable. \n"
   ]
  },
  {
   "cell_type": "code",
   "execution_count": null,
   "id": "af42b475",
   "metadata": {},
   "outputs": [],
   "source": []
  },
  {
   "cell_type": "markdown",
   "id": "1b0d4f77",
   "metadata": {},
   "source": [
    "#### Create a new variable called birthdate that contains the day and the month of birth. (Hint: Might want to use str() function)\n",
    "#### Print: My date of birth is the XX of XXXXXX.\n",
    "\n"
   ]
  },
  {
   "cell_type": "code",
   "execution_count": null,
   "id": "aba659b7",
   "metadata": {},
   "outputs": [],
   "source": []
  },
  {
   "cell_type": "markdown",
   "id": "261b43f4",
   "metadata": {},
   "source": [
    "####  Write a Python program to get a string made of the first 2 and the last 2 chars from a given a string. Assume strings are at least 4 characters long.\n"
   ]
  },
  {
   "cell_type": "code",
   "execution_count": null,
   "id": "37813bb9",
   "metadata": {},
   "outputs": [],
   "source": []
  },
  {
   "cell_type": "markdown",
   "id": "5fb3dfbf",
   "metadata": {},
   "source": [
    "#### Write a Python program to get a single string from two given strings, separated by a space and swap the first two characters of each string."
   ]
  },
  {
   "cell_type": "code",
   "execution_count": null,
   "id": "c8860136",
   "metadata": {},
   "outputs": [],
   "source": []
  },
  {
   "cell_type": "code",
   "execution_count": null,
   "id": "e428eee7-98ad-4dce-8bb8-2106a63d62fe",
   "metadata": {},
   "outputs": [],
   "source": [
    "# solution to the last two:\n",
    "str[0:2] + str[-2:]\n",
    "sum = blabla\n",
    "variable = \n"
   ]
  },
  {
   "cell_type": "markdown",
   "id": "9afd0a52-c5a2-4e40-bab4-ddf75abf153c",
   "metadata": {},
   "source": [
    "## Lists\n",
    "\n",
    "#### Create a list with different names. \n"
   ]
  },
  {
   "cell_type": "code",
   "execution_count": null,
   "id": "d8d7fc9d-eaa3-4956-8daa-3f35c7b6166a",
   "metadata": {},
   "outputs": [],
   "source": []
  },
  {
   "cell_type": "markdown",
   "id": "edec5d5a-5f10-482d-a27b-28cf9bae98cc",
   "metadata": {},
   "source": [
    "#### Count the amount of elements of the list.\n"
   ]
  },
  {
   "cell_type": "code",
   "execution_count": null,
   "id": "87b38a7b-9d64-4d0c-bf8b-7d9ce12cf795",
   "metadata": {},
   "outputs": [],
   "source": []
  },
  {
   "cell_type": "markdown",
   "id": "d0937095-8a11-4457-8239-42711343936a",
   "metadata": {},
   "source": [
    "#### Find the first and the last element according to the alphabetical order.\n"
   ]
  },
  {
   "cell_type": "code",
   "execution_count": null,
   "id": "6e1e52d6-2888-4856-8906-dab2b74d26d9",
   "metadata": {},
   "outputs": [],
   "source": []
  },
  {
   "cell_type": "markdown",
   "id": "ac340170-2c6a-4813-8ab2-1f6bc8d96b36",
   "metadata": {},
   "source": [
    "#### How much characters has the first alphabetical name. \n"
   ]
  },
  {
   "cell_type": "code",
   "execution_count": null,
   "id": "2863c454-9f92-4eee-b89e-0c590b6aa312",
   "metadata": {},
   "outputs": [],
   "source": []
  },
  {
   "cell_type": "markdown",
   "id": "13b90b4f-9f39-4464-a82c-ae801483effc",
   "metadata": {},
   "source": [
    "#### Sort all the list by alphabetical order\n"
   ]
  },
  {
   "cell_type": "code",
   "execution_count": null,
   "id": "f0359888-5948-4dab-9cd8-f961c1121e8e",
   "metadata": {},
   "outputs": [],
   "source": []
  },
  {
   "cell_type": "markdown",
   "id": "e42560f7-f47c-4f70-b002-9f223c1244f1",
   "metadata": {},
   "source": [
    "#### The second name is no longer in the class, replace its name for another. \n"
   ]
  },
  {
   "cell_type": "code",
   "execution_count": 27,
   "id": "7a4b8c47-a218-46da-965e-a40eb46bc13c",
   "metadata": {},
   "outputs": [
    {
     "name": "stdout",
     "output_type": "stream",
     "text": [
      "range(0, 8)\n"
     ]
    }
   ],
   "source": [
    "print(range(8))"
   ]
  },
  {
   "cell_type": "markdown",
   "id": "a1992025-ceb1-4cc1-be3a-85eb056637a8",
   "metadata": {},
   "source": [
    "#### Write two lists of strings: list1, list2. Create a third list whith the product of the first two elements of list1 and list2. \n"
   ]
  },
  {
   "cell_type": "code",
   "execution_count": null,
   "id": "941815cf-b0ee-483b-9186-40c69cbdbe97",
   "metadata": {},
   "outputs": [],
   "source": []
  },
  {
   "cell_type": "markdown",
   "id": "37f31ab2-5d9b-4c02-aeeb-fc096a91987b",
   "metadata": {},
   "source": [
    "#### Create a new list which includes list1, list2 and list3. \n"
   ]
  },
  {
   "cell_type": "code",
   "execution_count": null,
   "id": "e586dac0-739c-4f7e-b6d5-602ff396aedc",
   "metadata": {},
   "outputs": [],
   "source": []
  },
  {
   "cell_type": "markdown",
   "id": "030e145b-8155-4de3-b85f-63bb1e0f3f38",
   "metadata": {},
   "source": [
    "#### Using the list list = [1,2,3,4,5,6,7,8,9]:  Create a new list with every 3 elements. \n"
   ]
  },
  {
   "cell_type": "code",
   "execution_count": 1,
   "id": "f84321bb-69cd-4f9f-bf14-47db16d7712f",
   "metadata": {},
   "outputs": [
    {
     "name": "stdout",
     "output_type": "stream",
     "text": [
      "[1, 3, 5]\n"
     ]
    }
   ],
   "source": []
  },
  {
   "cell_type": "markdown",
   "id": "ad64f945-591e-4412-81e3-c9399129fe22",
   "metadata": {},
   "source": [
    "#### Create a new list with the last two elements. \n"
   ]
  },
  {
   "cell_type": "code",
   "execution_count": null,
   "id": "8c7bb475-9c14-407d-b91d-7288a67f2f19",
   "metadata": {},
   "outputs": [],
   "source": []
  },
  {
   "cell_type": "markdown",
   "id": "1977f5f5-fd4c-40f9-9b68-c2c051270743",
   "metadata": {},
   "source": [
    "## Dictionaries\n",
    "\n",
    "#### Create a list with 3 words. Now create a dictonary which keys: name1, name2, name3 and as values the length of the word. \n"
   ]
  },
  {
   "cell_type": "code",
   "execution_count": 29,
   "id": "a8bb3429-8ab0-40a8-be25-5442ea0ee4be",
   "metadata": {},
   "outputs": [
    {
     "name": "stdout",
     "output_type": "stream",
     "text": [
      "{'name1': 5}\n"
     ]
    }
   ],
   "source": [
    "lista = ['house','beer','jamon']\n",
    "dictionary = {'name1':len(lista[0])}\n",
    "print(dictionary)"
   ]
  },
  {
   "cell_type": "markdown",
   "id": "057a77ea-56cc-440e-b649-12f4f6e356b0",
   "metadata": {},
   "source": [
    "#### We forgot to include the word \"Econometrics\" in the previous dictoinary! Can you include it as name4?\n"
   ]
  },
  {
   "cell_type": "code",
   "execution_count": 32,
   "id": "b81ec195-cc18-468c-8f7b-178887ac3c49",
   "metadata": {},
   "outputs": [
    {
     "name": "stdout",
     "output_type": "stream",
     "text": [
      "{'name1': 5, 'nam4': 'econometric'}\n",
      "{'name1': 5, 'nam4': 'econometric', 'name5': 'apple'}\n"
     ]
    }
   ],
   "source": [
    "dictionary.update(name4='econometric')\n",
    "print(dictionary)\n",
    "\n",
    "dictionary['name5']  = 'apple'\n",
    "print(dictionary)"
   ]
  },
  {
   "cell_type": "markdown",
   "id": "35474e8a-49de-4f61-97e3-831906a74914",
   "metadata": {},
   "source": [
    "#### Also, the first word now is \"Apple\". Can you change the length?\n"
   ]
  },
  {
   "cell_type": "code",
   "execution_count": null,
   "id": "38c0bfcf-db4c-4860-acad-9fb67a5bfad4",
   "metadata": {},
   "outputs": [],
   "source": []
  },
  {
   "cell_type": "markdown",
   "id": "423f5b9e-f1eb-48dc-a680-b310488ab6c4",
   "metadata": {},
   "source": [
    "#### Print a list of all the values of your dictionary. \n",
    "\n"
   ]
  },
  {
   "cell_type": "code",
   "execution_count": 33,
   "id": "f2688e7a-e89f-433c-99cb-8e670fe02a83",
   "metadata": {},
   "outputs": [
    {
     "name": "stdout",
     "output_type": "stream",
     "text": [
      "dict_values([5, 'econometric', 'apple'])\n"
     ]
    }
   ],
   "source": [
    "print(dictionary.values())"
   ]
  },
  {
   "cell_type": "markdown",
   "id": "dd349e88",
   "metadata": {},
   "source": [
    "## Sets\n",
    "\n",
    "#### Create an empty set, and then add some elements to it. "
   ]
  },
  {
   "cell_type": "code",
   "execution_count": null,
   "id": "10634613",
   "metadata": {},
   "outputs": [],
   "source": []
  },
  {
   "cell_type": "markdown",
   "id": "657b569a",
   "metadata": {},
   "source": [
    "#### Now remove the first element of the set"
   ]
  },
  {
   "cell_type": "code",
   "execution_count": null,
   "id": "9d56c02c",
   "metadata": {},
   "outputs": [],
   "source": []
  },
  {
   "cell_type": "markdown",
   "id": "35e891e6",
   "metadata": {},
   "source": [
    "## Touples\n",
    "\n",
    "#### Create a touple with repeated items and then count the amount of times an intem appears in the touple. "
   ]
  },
  {
   "cell_type": "code",
   "execution_count": null,
   "id": "84919592",
   "metadata": {},
   "outputs": [],
   "source": []
  },
  {
   "cell_type": "markdown",
   "id": "fc7c7ba3-020e-4aff-84d9-3eec4587bf2b",
   "metadata": {},
   "source": [
    "## IF statements and loops\n",
    "\n",
    "#### Write a program that checks the length of a string, and if the length is longer than 4 it prints 'long string'. Otherwise, it prints 'short string'. \n"
   ]
  },
  {
   "cell_type": "code",
   "execution_count": null,
   "id": "60c7c35c-ec4b-4fb9-a57d-3a1dd3acd8c3",
   "metadata": {},
   "outputs": [],
   "source": []
  },
  {
   "cell_type": "markdown",
   "id": "10e4ffa3-c64e-4755-b4d7-05746d591bc5",
   "metadata": {},
   "source": [
    "#### Write a Python program to find those numbers which are divisible by 7 and multiple of 5, between 1500 and 2700 (both included).\n",
    "Hitnts: You might want to use range(150,200) which creates a list of the values between 150 and 200. Also, you might want to use the operator % whichs gives the reminder of a division.\n"
   ]
  },
  {
   "cell_type": "code",
   "execution_count": null,
   "id": "09829b68-ded5-46eb-af2a-ef0bc29bc00d",
   "metadata": {},
   "outputs": [],
   "source": []
  },
  {
   "cell_type": "markdown",
   "id": "42b02a9a-f02b-4ea5-ba48-0bea2c78b552",
   "metadata": {},
   "source": [
    "#### Write a Python program to construct the following pattern, using a nested for loop.\n",
    "\n",
    "##### a\n",
    "##### aa\n",
    "##### aaa\n",
    "##### aaaa\n",
    "##### aaa\n",
    "##### aa\n",
    "##### a\n",
    "\n",
    "Hint: To print next to each other use print(text,'end='')\n"
   ]
  },
  {
   "cell_type": "code",
   "execution_count": 35,
   "id": "2e75a741-40d8-441d-8661-31773ff9753d",
   "metadata": {},
   "outputs": [
    {
     "name": "stdout",
     "output_type": "stream",
     "text": [
      "a\n",
      "aa\n",
      "aaa\n",
      "aaaa\n",
      "aaa\n",
      "aa\n",
      "a\n"
     ]
    }
   ],
   "source": [
    "text='a'\n",
    "for x in range(1,8):\n",
    "    if x<=4:\n",
    "        print(text*x)\n",
    "    else:\n",
    "        print(text*(8-x))"
   ]
  },
  {
   "cell_type": "markdown",
   "id": "0e262938-72e8-4f1b-938e-1440291b7014",
   "metadata": {},
   "source": [
    "#### Write a Python program that prints all the numbers from 0 to 7 except 3 and 6.\n"
   ]
  },
  {
   "cell_type": "code",
   "execution_count": null,
   "id": "3aa90d29-162d-41eb-9ae1-9550bd1e5c77",
   "metadata": {},
   "outputs": [],
   "source": []
  },
  {
   "cell_type": "markdown",
   "id": "76c41235-6215-46c8-8635-3c5198e6c3d9",
   "metadata": {},
   "source": [
    "#### Write a Python program that accepts a string and calculate the number of digits and letters.\n",
    "Sample Data : Python 3.2\n",
    "Expected Output :\n",
    "Letters 6\n",
    "Digits 2\n"
   ]
  },
  {
   "cell_type": "code",
   "execution_count": 37,
   "id": "2db33515-9973-4bb9-8e51-89e3ff3d647d",
   "metadata": {},
   "outputs": [
    {
     "name": "stdout",
     "output_type": "stream",
     "text": [
      "letters: 4 ; digits: 4\n"
     ]
    }
   ],
   "source": [
    "sample=\"text1010\"\n",
    "d=0\n",
    "l=0\n",
    "for c in sample:\n",
    "    if c.isalpha():\n",
    "        l+=1\n",
    "    elif c.isnumeric():\n",
    "        d+=1\n",
    "    else:\n",
    "        pass\n",
    "print(\"letters:\",l,\"; digits:\",d)"
   ]
  },
  {
   "cell_type": "markdown",
   "id": "3264b8c6-f2d6-495a-b9aa-704499b6bc52",
   "metadata": {},
   "source": [
    "#### Create a list and iterate over its elements to print the length or value.\n",
    "\n"
   ]
  },
  {
   "cell_type": "code",
   "execution_count": null,
   "id": "2a64a259-e0f7-4cd2-8920-068ead9217c7",
   "metadata": {},
   "outputs": [],
   "source": []
  },
  {
   "cell_type": "markdown",
   "id": "8028f37b",
   "metadata": {},
   "source": [
    "#### Write a Python program that prints all the numbers from 0 to 6 except 3 and 6."
   ]
  },
  {
   "cell_type": "code",
   "execution_count": null,
   "id": "f3fb6f1c",
   "metadata": {},
   "outputs": [],
   "source": []
  },
  {
   "cell_type": "markdown",
   "id": "6a6dcc00",
   "metadata": {},
   "source": [
    "Write a program that takes a list of integers as input and performs the following tasks:\n",
    "\n",
    "1. Count how many numbers are even and how many are odd.\n",
    "2. Find the sum of all numbers.\n",
    "3. Calculate the average of even numbers and the average of odd numbers.\n",
    "4. Create a dictionary where:\n",
    "    The keys are \"even\" and \"odd\".\n",
    "    The values are lists of even and odd numbers from the input list, respectively.\n",
    "5. Identify the largest even number and the smallest odd number (if they exist)."
   ]
  },
  {
   "cell_type": "code",
   "execution_count": null,
   "id": "9af682ee",
   "metadata": {},
   "outputs": [],
   "source": []
  },
  {
   "cell_type": "markdown",
   "id": "3805d2f1-be39-4360-a6b7-e42934cc32fa",
   "metadata": {},
   "source": [
    "## List Comperhension\n",
    "\n",
    "#### With original_list = [2,3.75,.04,59.354,6,7.7777,8,9] create a new list with only the integers.\n"
   ]
  },
  {
   "cell_type": "code",
   "execution_count": null,
   "id": "ef8c5ee1-cc3d-4a57-874f-7c11cfcce2a6",
   "metadata": {},
   "outputs": [],
   "source": []
  },
  {
   "cell_type": "markdown",
   "id": "d0707460-2bc6-407d-8a50-2d9641842221",
   "metadata": {},
   "source": [
    "#### Create a list with every character of the string \"Apple\". All the characters should be upercase. \n"
   ]
  },
  {
   "cell_type": "code",
   "execution_count": null,
   "id": "b5440678-a0bd-4088-9db1-cdb6a75f34dd",
   "metadata": {},
   "outputs": [],
   "source": []
  },
  {
   "cell_type": "markdown",
   "id": "68108a6a",
   "metadata": {},
   "source": [
    "#### Filter odd numbers from the following list: \n"
   ]
  },
  {
   "cell_type": "code",
   "execution_count": null,
   "id": "239e0faa",
   "metadata": {},
   "outputs": [],
   "source": [
    "numbers = [1, 2, 3, 4, 5, 6, 7, 8, 9, 10, 11]"
   ]
  },
  {
   "cell_type": "markdown",
   "id": "bce0bbfd",
   "metadata": {},
   "source": [
    "Write a Python program that processes a nested list of integers and performs the following tasks using list comprehensions:\n",
    "\n",
    "1. Flatten the nested list into a single list of integers.\n",
    "2. Identify and create two separate lists:\n",
    "    One for numbers divisible by 3.\n",
    "    One for numbers that are prime.\n",
    "3. Create a dictionary where:\n",
    "    Keys are \"divisible_by_3\" and \"prime\".\n",
    "    Values are the corresponding lists from step 2.\n",
    "4. Using a list comprehension, create a list of tuples where:\n",
    "    Each tuple contains a number from the flattened list and its square, but only for numbers greater than 10.\n"
   ]
  },
  {
   "cell_type": "code",
   "execution_count": null,
   "id": "9a55a1b8",
   "metadata": {},
   "outputs": [],
   "source": []
  },
  {
   "cell_type": "markdown",
   "id": "e0593c82-2640-421a-b6ef-afb6afcdb1dd",
   "metadata": {},
   "source": [
    "## Functions\n",
    "\n",
    "#### Write a function to find the max of three numbers. \n"
   ]
  },
  {
   "cell_type": "code",
   "execution_count": null,
   "id": "f4dcbb41-6315-4db3-87f5-12bd1ca0192d",
   "metadata": {},
   "outputs": [],
   "source": []
  },
  {
   "cell_type": "markdown",
   "id": "b3e8dd52-4f2f-498c-91c3-4408111d2c8d",
   "metadata": {},
   "source": [
    "#### Write a function to sum all the elements in a list. \n"
   ]
  },
  {
   "cell_type": "code",
   "execution_count": 41,
   "id": "ce008791-2549-43d4-b885-eb6d93a12d4d",
   "metadata": {},
   "outputs": [
    {
     "name": "stdout",
     "output_type": "stream",
     "text": [
      "10\n"
     ]
    }
   ],
   "source": [
    "def sumall(*item):\n",
    "    return sum(item)\n",
    "\n",
    "print(sumall(1,2,3,4))"
   ]
  },
  {
   "cell_type": "markdown",
   "id": "d77e458e-32db-41ca-852e-4c95dedb5b67",
   "metadata": {},
   "source": [
    "#### Write a function to reverse the elements of a string. \n"
   ]
  },
  {
   "cell_type": "code",
   "execution_count": 42,
   "id": "e6a1b2ba-ab88-4a3e-81a1-f46297b0de6a",
   "metadata": {},
   "outputs": [
    {
     "name": "stdout",
     "output_type": "stream",
     "text": [
      "esuoh\n"
     ]
    }
   ],
   "source": [
    "def revstring(text):\n",
    "    return text[::-1]\n",
    "\n",
    "print(revstring('house'))"
   ]
  },
  {
   "cell_type": "markdown",
   "id": "04b7215e",
   "metadata": {},
   "source": [
    "#### Write a function that can take an unlimited amount of arguments and prints all the arguments. "
   ]
  },
  {
   "cell_type": "code",
   "execution_count": null,
   "id": "571cd215",
   "metadata": {},
   "outputs": [],
   "source": [
    "def myFun(*argv):\n",
    "    for arg in argv:\n",
    "        print(arg)"
   ]
  },
  {
   "cell_type": "raw",
   "id": "aa80bf38",
   "metadata": {},
   "source": [
    "Write a Python function calculate_stats(*args, **kwargs) that calculates various statistics based on the provided positional and keyword arguments.\n",
    "\n",
    "The function should accept:\n",
    "\n",
    "Positional arguments (*args): A variable number of integers or floats.\n",
    "Keyword arguments (**kwargs): Optional operations to perform on the provided numbers.\n",
    "The following keyword arguments should be supported:\n",
    "\n",
    "operation: Specifies the operation to perform. Acceptable values are: \n",
    "\"sum\": Calculate the sum of all numbers.\n",
    "\"average\": Calculate the average of the numbers.\n",
    "\"max\": Find the maximum value.\n",
    "\"min\": Find the minimum value.\n",
    "round_to: Specifies the number of decimal places to round the result (default is 2).\n",
    "If no numbers are provided via *args, return \"No numbers provided.\".\n",
    "\n",
    "If an invalid operation is passed, return \"Invalid operation.\"."
   ]
  },
  {
   "cell_type": "code",
   "execution_count": null,
   "id": "09980b73",
   "metadata": {},
   "outputs": [],
   "source": []
  },
  {
   "cell_type": "markdown",
   "id": "4ef83e67",
   "metadata": {},
   "source": [
    "# Lambda\n",
    "\n",
    "#### Write a Python program to square and cube every number in a given list of integers using Lambda.\n",
    "\n",
    "HINT: You should use the function `map()`. \n",
    "\n"
   ]
  },
  {
   "cell_type": "code",
   "execution_count": null,
   "id": "110a9692",
   "metadata": {},
   "outputs": [],
   "source": []
  },
  {
   "cell_type": "markdown",
   "id": "6f741455",
   "metadata": {},
   "source": [
    "Write a program that defines and uses lambda functions to perform the following tasks:\n",
    "\n",
    "Create a lambda function to check if a number is even.\n",
    "Create a lambda function that takes two numbers and returns their product.\n",
    "The program should also demonstrate the use of these functions with example inputs."
   ]
  },
  {
   "cell_type": "code",
   "execution_count": null,
   "id": "70c40df0",
   "metadata": {},
   "outputs": [],
   "source": []
  },
  {
   "cell_type": "markdown",
   "id": "dc82db37-dbd5-4126-96a1-aa77804272ce",
   "metadata": {},
   "source": [
    "## Class"
   ]
  },
  {
   "cell_type": "markdown",
   "metadata": {},
   "source": [
    "# **Exercise: Library Management System**\n",
    "\n",
    "## **Objective**\n",
    "\n",
    "Create a simple library management system using **classes**, **methods**, and **inheritance** in Python.\n",
    "\n",
    "---\n",
    "\n",
    "## **Instructions**\n",
    "\n",
    "1. **Create a base class `Book`**:\n",
    "   - Attributes:\n",
    "     - `title` (string)\n",
    "     - `author` (string)\n",
    "     - `publication_year` (integer)\n",
    "   - Methods:\n",
    "     - `get_details()`: Returns a string with the book's details in the format:  \n",
    "       `\"Title: <title>, Author: <author>, Year: <publication_year>\"`\n",
    "\n",
    "2. **Create a derived class `EBook`** that inherits from `Book`:\n",
    "   - Additional Attributes:\n",
    "     - `file_size` (float, in MB)\n",
    "     - `download_url` (string)\n",
    "   - Methods:\n",
    "     - Override the `get_details()` method to include file size and download URL in the format:  \n",
    "       `\"Title: <title>, Author: <author>, Year: <publication_year>, Size: <file_size>MB, URL: <download_url>\"`\n",
    "\n",
    "3. **Create a `Library` class**:\n",
    "   - Attributes:\n",
    "     - `books` (a list to store `Book` and `EBook` objects)\n",
    "   - Methods:\n",
    "     - `add_book(book)`: Adds a `Book` or `EBook` object to the `books` list.\n",
    "     - `list_books()`: Prints the details of all books in the library by calling `get_details()` on each book.\n",
    "\n",
    "---\n",
    "\n",
    "## **Example Usage**\n",
    "\n",
    "```python\n",
    "# Create Book and EBook objects\n",
    "book1 = Book(\"1984\", \"George Orwell\", 1949)\n",
    "ebook1 = EBook(\"Digital Fortress\", \"Dan Brown\", 1998, 1.2, \"http://example.com/df\")\n",
    "\n",
    "# Create a Library and add books to it\n",
    "library = Library()\n",
    "library.add_book(book1)\n",
    "library.add_book(ebook1)\n",
    "\n",
    "# List all books in the library\n",
    "library.list_books()\n"
   ]
  },
  {
   "cell_type": "code",
   "execution_count": null,
   "id": "7979de33",
   "metadata": {},
   "outputs": [],
   "source": []
  }
 ],
 "metadata": {
  "kernelspec": {
   "display_name": "Python 3 (ipykernel)",
   "language": "python",
   "name": "python3"
  },
  "language_info": {
   "codemirror_mode": {
    "name": "ipython",
    "version": 3
   },
   "file_extension": ".py",
   "mimetype": "text/x-python",
   "name": "python",
   "nbconvert_exporter": "python",
   "pygments_lexer": "ipython3",
   "version": "3.11.5"
  }
 },
 "nbformat": 4,
 "nbformat_minor": 5
}
