{
 "cells": [
  {
   "cell_type": "markdown",
   "id": "c1696e9b-9779-47e6-87a1-03c5784bfe1a",
   "metadata": {},
   "source": [
    "# Exercices with NumPy\n",
    "\n",
    "\n",
    "## Creating Arrays\n",
    "\n",
    "#### Create a 2x2 array with random numbers."
   ]
  },
  {
   "cell_type": "code",
   "execution_count": null,
   "id": "f186a83d-48d4-473a-aaae-0a01e84c4fd8",
   "metadata": {},
   "outputs": [],
   "source": []
  },
  {
   "cell_type": "markdown",
   "id": "36382e7a-3114-49b0-ba97-f2be4c48c8fc",
   "metadata": {},
   "source": [
    "#### Write a NumPy program to create an array of 10 zeros, 10 ones, 10 fives. "
   ]
  },
  {
   "cell_type": "code",
   "execution_count": null,
   "id": "bb7c8b61-1ff2-4d2a-b4e7-3d4e42eca2fc",
   "metadata": {},
   "outputs": [],
   "source": []
  },
  {
   "cell_type": "markdown",
   "id": "589c49f7-17f5-417f-b95a-86d5bb8b861a",
   "metadata": {},
   "source": [
    "#### Write a NumPy program to create an array of the integers from 30 to 70. "
   ]
  },
  {
   "cell_type": "code",
   "execution_count": null,
   "id": "d47982f3-9f63-4144-baaf-d65b081c0f09",
   "metadata": {},
   "outputs": [],
   "source": []
  },
  {
   "cell_type": "markdown",
   "id": "c093b851-106e-484d-a63e-ea690a823790",
   "metadata": {},
   "source": [
    "#### Write a NumPy program to create a vector of length 10 with values evenly distributed between 5 and 50. "
   ]
  },
  {
   "cell_type": "code",
   "execution_count": null,
   "id": "ba3145e7-d213-45a6-aac5-3dba770d9c91",
   "metadata": {},
   "outputs": [],
   "source": []
  },
  {
   "cell_type": "markdown",
   "id": "ddcfe767",
   "metadata": {},
   "source": [
    "#### Create an array of zeros, ones and an empty array of equal shape and check which one takes less memory size. "
   ]
  },
  {
   "cell_type": "code",
   "execution_count": null,
   "id": "2cc7ba90",
   "metadata": {},
   "outputs": [],
   "source": []
  },
  {
   "cell_type": "markdown",
   "id": "7ef139b6",
   "metadata": {},
   "source": [
    "#### Write a Python function that takes an input a 1-D array, then loops over its elements and prints the type of each element."
   ]
  },
  {
   "cell_type": "code",
   "execution_count": null,
   "id": "2793375b",
   "metadata": {},
   "outputs": [],
   "source": []
  },
  {
   "cell_type": "markdown",
   "id": "5913ed32-4e05-4a2c-b705-f93bcccb26e3",
   "metadata": {},
   "source": [
    "## Basic Arrays Operations"
   ]
  },
  {
   "cell_type": "markdown",
   "id": "06415cb5-d190-408a-876c-1b406c073a44",
   "metadata": {},
   "source": [
    "#### Write a NumPy program to add a vector to each row of a given matrix. "
   ]
  },
  {
   "cell_type": "code",
   "execution_count": null,
   "id": "182111ff-8da2-42e1-9e02-8323f69740e5",
   "metadata": {},
   "outputs": [],
   "source": []
  },
  {
   "cell_type": "markdown",
   "id": "83e8a24b-09bb-4a8b-ad85-4e2a142ac3b3",
   "metadata": {},
   "source": [
    "#### Create two arrays of three dimensions. Then print the sum, substraction, division and mutliplication. "
   ]
  },
  {
   "cell_type": "code",
   "execution_count": null,
   "id": "3b888aec-b37f-4b67-b915-5218cd4f7925",
   "metadata": {},
   "outputs": [],
   "source": []
  },
  {
   "cell_type": "markdown",
   "id": "aab1fde1",
   "metadata": {},
   "source": [
    "#### Write a NumPy program to calculate the absolute value element-wise."
   ]
  },
  {
   "cell_type": "code",
   "execution_count": null,
   "id": "7310d40a",
   "metadata": {},
   "outputs": [],
   "source": []
  },
  {
   "cell_type": "markdown",
   "id": "0517f734",
   "metadata": {},
   "source": [
    "#### Write a NumPy program to round array elements to the given number of decimals."
   ]
  },
  {
   "cell_type": "code",
   "execution_count": null,
   "id": "42682a12",
   "metadata": {},
   "outputs": [],
   "source": []
  },
  {
   "cell_type": "markdown",
   "id": "7e4c1241",
   "metadata": {},
   "source": [
    "#### Write a NumPy program to multiply a 5x3 matrix by a 3x2 matrix and create a real matrix product.\n",
    "\n"
   ]
  },
  {
   "cell_type": "code",
   "execution_count": null,
   "id": "d773765e",
   "metadata": {},
   "outputs": [],
   "source": []
  },
  {
   "cell_type": "markdown",
   "id": "448933b3-bbd0-47aa-ae38-cfad631d672a",
   "metadata": {},
   "source": [
    "## Indexing, Slicing and Iterating"
   ]
  },
  {
   "cell_type": "markdown",
   "id": "dbe56530-eeed-4976-a077-c1acb5d7c324",
   "metadata": {},
   "source": [
    "#### Create a one dimensional array and extract all the odd elements. "
   ]
  },
  {
   "cell_type": "code",
   "execution_count": null,
   "id": "d9b808f4-9264-4799-81f2-8b67323291af",
   "metadata": {},
   "outputs": [],
   "source": []
  },
  {
   "cell_type": "markdown",
   "id": "08cf7d53-8de8-47b5-8085-6079874dcacf",
   "metadata": {},
   "source": [
    "#### Create a three dimensional array and extract the element 1,1,1, and all the array included in 2,2."
   ]
  },
  {
   "cell_type": "code",
   "execution_count": null,
   "id": "4d921a35-11b6-4bba-91e2-25397fa65575",
   "metadata": {},
   "outputs": [],
   "source": []
  },
  {
   "cell_type": "markdown",
   "id": "a5770db7-e3fd-40d4-9629-6d8db5e72572",
   "metadata": {},
   "source": [
    "#### Create a (5,5) random array using the normal distribution. Then replace all the elements that greater than .5 by a 66."
   ]
  },
  {
   "cell_type": "code",
   "execution_count": null,
   "id": "8b5b3811-feca-40c1-82a4-81804c1444ff",
   "metadata": {},
   "outputs": [],
   "source": []
  },
  {
   "cell_type": "markdown",
   "id": "fe88fe58-e5b6-4bd8-89a8-6ac1a13bfb42",
   "metadata": {},
   "source": [
    "#### Get a subset of the following array for the elements grater than 6 and smaller than 20\n"
   ]
  },
  {
   "cell_type": "code",
   "execution_count": 5,
   "id": "66d232b2-dcd4-4d17-86f1-c8a9e81bba91",
   "metadata": {},
   "outputs": [],
   "source": []
  },
  {
   "cell_type": "markdown",
   "id": "953aef00",
   "metadata": {},
   "source": [
    "#### Generate a (10,10) array of random numbers. Now replace by 10 the elements of the 4th column if the elements of the second column are negative or the elements of the 7th column are positive. Print the results."
   ]
  },
  {
   "cell_type": "code",
   "execution_count": null,
   "id": "5438042e",
   "metadata": {},
   "outputs": [],
   "source": []
  },
  {
   "cell_type": "markdown",
   "id": "dc10d4f0-112f-48ba-a4fe-729600bef0ee",
   "metadata": {},
   "source": [
    "#### Create two arrays and stack them together on the horizontal axis."
   ]
  },
  {
   "cell_type": "code",
   "execution_count": null,
   "id": "a9909f98-cf4f-40f8-a54c-93b8517edcf5",
   "metadata": {},
   "outputs": [],
   "source": []
  },
  {
   "cell_type": "markdown",
   "id": "bbfc9f89-4672-42ac-8dcb-8b3a752503c4",
   "metadata": {},
   "source": [
    "#### Create two arrays and stack them together on the vertical axis"
   ]
  },
  {
   "cell_type": "code",
   "execution_count": null,
   "id": "bba7910f-2353-44fc-8d35-215c86e8d84f",
   "metadata": {},
   "outputs": [],
   "source": []
  },
  {
   "cell_type": "markdown",
   "id": "a8ad6cde-9fc8-4e20-a409-d4a8872c25b0",
   "metadata": {},
   "source": [
    "#### Split the arrays of the previous initial exercices to obtain again the original arrays. "
   ]
  },
  {
   "cell_type": "code",
   "execution_count": null,
   "id": "d1f2c6d2-23f1-460c-8b8d-d116856e0ee0",
   "metadata": {},
   "outputs": [],
   "source": []
  },
  {
   "cell_type": "markdown",
   "metadata": {},
   "source": [
    "# Exercise: Temperature Data Analysis with NumPy\n",
    "\n",
    "You are working with temperature data recorded in different cities over several days. Your goal is to use NumPy to analyze this data by creating arrays, performing basic operations, manipulating their shape, and implementing a function to streamline repeated analysis.\n",
    "\n",
    "---\n",
    "\n",
    "## Instructions\n",
    "\n",
    "### 1. Create the temperature data array\n",
    "Create a 2D NumPy array `temperatures` with the following data (in degrees Celsius):\n",
    "\n",
    "```python\n",
    "\n",
    "temperatures = np.array([\n",
    "    [20, 22, 19, 21],  # Day 1\n",
    "    [18, 20, 21, 23],  # Day 2\n",
    "    [25, 27, 26, 24],  # Day 3\n",
    "    [22, 24, 23, 25]   # Day 4\n",
    "]) \n",
    "\n",
    "\n"
   ]
  },
  {
   "cell_type": "markdown",
   "id": "38bac065",
   "metadata": {},
   "source": [
    "\n",
    "Each row represents a day, and each column represents a city.\n",
    "\n",
    "---\n",
    "\n",
    "### 2. Perform basic array operations\n",
    "- Find the average temperature for each city (column-wise average).\n",
    "- Find the maximum temperature recorded for each day (row-wise maximum).\n",
    "- Convert all temperatures from Celsius to Fahrenheit using the formula:\n",
    "  \\[\n",
    "  F = C \\times \\frac{9}{5} + 32\n",
    "  \\]\n",
    "\n",
    "---\n",
    "\n",
    "### 3. Shape manipulation\n",
    "- Reshape the `temperatures` array into a 1D array.\n",
    "- Reshape it back into a 4x4 matrix (its original shape).\n",
    "- Transpose the array so that rows become columns and vice versa.\n",
    "\n",
    "---\n",
    "\n",
    "### 4. Implement a function\n",
    "Write a function `analyze_temperatures(data)` that:\n",
    "- Takes a 2D NumPy array as input.\n",
    "- Returns the following:\n",
    "  - The average temperature for each city.\n",
    "  - The maximum temperature recorded for each day.\n",
    "  - A new array with all temperatures converted to Fahrenheit.\n",
    "\n",
    "Use this function to analyze the `temperatures` array.\n",
    "\n",
    "---\n",
    "\n",
    "### 5. Final\n",
    "- Identify which days had a temperature above 25°C in any city. Return a boolean array indicating this.\n",
    "- Extend your function to optionally include this analysis if a keyword argument `above_threshold=True` is provided.\n",
    "\n",
    "---\n",
    "\n"
   ]
  },
  {
   "cell_type": "code",
   "execution_count": null,
   "id": "a2c7160e",
   "metadata": {},
   "outputs": [],
   "source": []
  },
  {
   "cell_type": "markdown",
   "id": "b2839301-2108-4411-ac62-03e4bb24e474",
   "metadata": {},
   "source": [
    "## Methods"
   ]
  },
  {
   "cell_type": "markdown",
   "id": "c3c7ce38-e709-4f39-b0e1-c2f82dad6517",
   "metadata": {},
   "source": [
    "#### Write a NumPy program to reverse an array (first element becomes last). "
   ]
  },
  {
   "cell_type": "code",
   "execution_count": null,
   "id": "5f279669-b462-440a-a842-f053cf70e1f2",
   "metadata": {},
   "outputs": [],
   "source": []
  },
  {
   "cell_type": "markdown",
   "id": "21685360-6552-4b8c-acc4-51f6958a8f3c",
   "metadata": {},
   "source": [
    "#### Write a NumPy program to create a new shape to an array without changing its data. "
   ]
  },
  {
   "cell_type": "code",
   "execution_count": null,
   "id": "968f23d4-679c-4474-bc89-e03507f4b088",
   "metadata": {},
   "outputs": [],
   "source": []
  },
  {
   "cell_type": "markdown",
   "id": "0e21d3c2",
   "metadata": {},
   "source": [
    "#### Write a NumPy program to test whether each element of a 1-D array is also present in a second array."
   ]
  },
  {
   "cell_type": "code",
   "execution_count": null,
   "id": "fbf8e593",
   "metadata": {},
   "outputs": [],
   "source": []
  },
  {
   "cell_type": "markdown",
   "id": "4347daa6-5ef4-426c-acc9-dc20569d24f9",
   "metadata": {},
   "source": [
    "## Functions"
   ]
  },
  {
   "cell_type": "markdown",
   "id": "25d77fcb-9551-4b1e-a633-4b431974198e",
   "metadata": {},
   "source": [
    "#### Write a NumPy program to test wether any of the elemnts of a given array is non-zero."
   ]
  },
  {
   "cell_type": "code",
   "execution_count": null,
   "id": "4c60683e-99df-4302-9490-11dd7d2224d6",
   "metadata": {},
   "outputs": [],
   "source": []
  },
  {
   "cell_type": "markdown",
   "id": "b57a88ca-a5a9-4562-8fc6-ae97061ca6ee",
   "metadata": {},
   "source": [
    "#### Write a NumPy program that replaces nans by 0s. Test it with an array that has both integers and nans. "
   ]
  },
  {
   "cell_type": "code",
   "execution_count": null,
   "id": "13867172-8675-447c-8c24-414fd9c4e027",
   "metadata": {},
   "outputs": [],
   "source": []
  },
  {
   "cell_type": "markdown",
   "id": "42ea0e1e-12c4-40a5-8999-58a3a666788e",
   "metadata": {},
   "source": [
    "#### Write a program that returns the column and row vecors of means of the following array:"
   ]
  },
  {
   "cell_type": "code",
   "execution_count": 2,
   "id": "d9964d3a-5db3-4034-b45a-adeb6fbb458a",
   "metadata": {},
   "outputs": [],
   "source": [
    "import numpy as np\n",
    "\n",
    "array = np.arange(5,200,10).reshape((2,10))"
   ]
  },
  {
   "cell_type": "markdown",
   "id": "b4f2669b-d894-4bdc-88b4-01896d48654d",
   "metadata": {},
   "source": [
    "#### Create a random array (5,5) and find the minimum and maximum elements."
   ]
  },
  {
   "cell_type": "code",
   "execution_count": null,
   "id": "f0e50a6b-9c30-422b-a839-bfb01ae4f9c8",
   "metadata": {},
   "outputs": [],
   "source": []
  },
  {
   "cell_type": "markdown",
   "id": "abca357b-ecd2-4d20-a5a3-e4432d90c31c",
   "metadata": {},
   "source": [
    "#### Compute the cummulative sum of the following array. You must do it both with a numpy function and using a loop."
   ]
  },
  {
   "cell_type": "code",
   "execution_count": 3,
   "id": "e885c340-ed39-4ebc-a807-f5710f349ac4",
   "metadata": {},
   "outputs": [],
   "source": [
    "x = np.linspace(5,100,10)"
   ]
  },
  {
   "cell_type": "markdown",
   "id": "2cd90bd1-6ef2-4eb2-84b3-7e3b759c0fb1",
   "metadata": {},
   "source": [
    "#### Generate an array that has `nan` entries. Then replace those nans by 0s. "
   ]
  },
  {
   "cell_type": "code",
   "execution_count": null,
   "id": "c5a2698b-6d8b-4c4b-9bdd-c8a3fce30b5e",
   "metadata": {},
   "outputs": [],
   "source": []
  },
  {
   "cell_type": "markdown",
   "id": "91320643",
   "metadata": {},
   "source": [
    "# Exercise: Inventory Management System\n",
    "\n",
    "You are tasked with creating a Python class to manage inventory data for a warehouse. The class should store product information using dictionaries and NumPy arrays, perform analyses using array broadcasting, and loop through the data as needed.\n",
    "\n",
    "---\n",
    "\n",
    "## Instructions\n",
    "\n",
    "### 1. Define the `Inventory` Class\n",
    "Create a class named `Inventory` with the following features:\n",
    "- The class should store product inventory data in a dictionary where:\n",
    "  - The keys are product names (strings).\n",
    "  - The values are NumPy arrays with the following structure:\n",
    "    - Quantity in stock (integer).\n",
    "    - Price per unit (float).\n",
    "    - Weight per unit (float, in kilograms).\n",
    "\n",
    "---\n",
    "\n",
    "### 2. Implement the Following Methods\n",
    "\n",
    "1. **`add_product(self, product_name, details)`**:\n",
    "   - Add a new product to the inventory.\n",
    "   - `product_name`: A string representing the product name.\n",
    "   - `details`: A NumPy array of size 3 containing:\n",
    "     - Quantity in stock (integer).\n",
    "     - Price per unit (float).\n",
    "     - Weight per unit (float).\n",
    "   - Raise a `ValueError` if the `details` array is not of size 3 or if the product already exists.\n",
    "\n",
    "2. **`update_stock(self, product_name, quantity)`**:\n",
    "   - Update the quantity in stock for a specific product by adding or subtracting the specified amount.\n",
    "   - Raise a `KeyError` if the product does not exist.\n",
    "\n",
    "3. **`calculate_total_value(self)`**:\n",
    "   - Calculate the total value of all products in stock.\n",
    "   - Return the total value as a float. (Use the formula: `quantity * price` for each product.)\n",
    "\n",
    "4. **`get_heaviest_product(self)`**:\n",
    "   - Identify and return the name of the product with the highest total weight in stock (i.e., `quantity * weight`).\n",
    "\n",
    "5. **`apply_discount(self, discount_percentage)`**:\n",
    "   - Apply a percentage discount to the price of all products.\n",
    "   - Use broadcasting to adjust the price.\n",
    "\n",
    "---\n",
    "\n",
    "### 3. Example Usage\n",
    "\n",
    "```python\n",
    "# Create an instance of Inventory\n",
    "warehouse = Inventory()\n",
    "\n",
    "# Add products to the inventory\n",
    "warehouse.add_product(\"Laptop\", np.array([50, 1200.0, 2.5]))  # 50 units, $1200 each, 2.5 kg/unit\n",
    "warehouse.add_product(\"Chair\", np.array([200, 75.0, 8.0]))    # 200 units, $75 each, 8 kg/unit\n",
    "warehouse.add_product(\"Desk\", np.array([100, 150.0, 15.0]))   # 100 units, $150 each, 15 kg/unit\n",
    "\n",
    "# Update stock for a product\n",
    "warehouse.update_stock(\"Chair\", -20)  # Remove 20 chairs from stock\n",
    "\n",
    "# Calculate the total value of all products\n",
    "print(\"Total Value:\", warehouse.calculate_total_value())\n",
    "\n",
    "# Find the heaviest product in stock\n",
    "print(\"Heaviest Product:\", warehouse.get_heaviest_product())\n",
    "\n",
    "# Apply a 10% discount to all products\n",
    "warehouse.apply_discount(10)\n",
    "\n",
    "# Check the updated inventory\n",
    "print(\"Updated Inventory:\")\n",
    "for product, details in warehouse.inventory.items():\n",
    "    print(f\"{product}: Quantity={details[0]}, Price={details[1]:.2f}, Weight={details[2]}\")\n"
   ]
  },
  {
   "cell_type": "code",
   "execution_count": null,
   "id": "1d82756d",
   "metadata": {},
   "outputs": [],
   "source": []
  }
 ],
 "metadata": {
  "kernelspec": {
   "display_name": "Python 3 (ipykernel)",
   "language": "python",
   "name": "python3"
  },
  "language_info": {
   "codemirror_mode": {
    "name": "ipython",
    "version": 3
   },
   "file_extension": ".py",
   "mimetype": "text/x-python",
   "name": "python",
   "nbconvert_exporter": "python",
   "pygments_lexer": "ipython3",
   "version": "3.11.5"
  }
 },
 "nbformat": 4,
 "nbformat_minor": 5
}
